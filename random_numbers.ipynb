{
 "cells": [
  {
   "cell_type": "code",
   "execution_count": 1,
   "id": "8f3e7bea",
   "metadata": {},
   "outputs": [],
   "source": [
    "#6.14\n",
    "# Import the random module\n",
    "\n",
    "import random"
   ]
  },
  {
   "cell_type": "code",
   "execution_count": 2,
   "id": "133a62d0",
   "metadata": {},
   "outputs": [
    {
     "ename": "SyntaxError",
     "evalue": "invalid syntax (2942775573.py, line 1)",
     "output_type": "error",
     "traceback": [
      "\u001b[1;36m  File \u001b[1;32m\"C:\\Users\\gonza\\AppData\\Local\\Temp\\ipykernel_8496\\2942775573.py\"\u001b[1;36m, line \u001b[1;32m1\u001b[0m\n\u001b[1;33m    random.\u001b[0m\n\u001b[1;37m           ^\u001b[0m\n\u001b[1;31mSyntaxError\u001b[0m\u001b[1;31m:\u001b[0m invalid syntax\n"
     ]
    }
   ],
   "source": [
    "random."
   ]
  },
  {
   "cell_type": "code",
   "execution_count": 4,
   "id": "38f059a2",
   "metadata": {},
   "outputs": [
    {
     "data": {
      "text/plain": [
       "11"
      ]
     },
     "execution_count": 4,
     "metadata": {},
     "output_type": "execute_result"
    }
   ],
   "source": [
    "# The randint()Function\n",
    "random.randint(-90, 90)"
   ]
  },
  {
   "cell_type": "code",
   "execution_count": 5,
   "id": "d42a1843",
   "metadata": {},
   "outputs": [
    {
     "data": {
      "text/plain": [
       "0.3223605707698729"
      ]
     },
     "execution_count": 5,
     "metadata": {},
     "output_type": "execute_result"
    }
   ],
   "source": [
    "# The random()Function\n",
    "random.random()"
   ]
  },
  {
   "cell_type": "code",
   "execution_count": 8,
   "id": "d20268e2",
   "metadata": {},
   "outputs": [
    {
     "name": "stdout",
     "output_type": "stream",
     "text": [
      "2\n",
      "3\n",
      "4\n",
      "5\n",
      "6\n",
      "7\n",
      "8\n",
      "9\n",
      "10\n",
      "11\n"
     ]
    }
   ],
   "source": [
    "x = 1\n",
    "latitudes = []\n",
    "while x < 11:\n",
    "    random_lat = random.randint(-90, 89) + random.random()\n",
    "    latitudes.append(random_lat)\n",
    "    x += 1\n",
    "    print(x)"
   ]
  },
  {
   "cell_type": "code",
   "execution_count": 12,
   "id": "99543b98",
   "metadata": {},
   "outputs": [
    {
     "data": {
      "text/plain": [
       "9"
      ]
     },
     "execution_count": 12,
     "metadata": {},
     "output_type": "execute_result"
    }
   ],
   "source": [
    "# The randrandge()Function\n",
    "# important to add the step parameter\n",
    "random.randrange(-90, 90, step=1)"
   ]
  },
  {
   "cell_type": "code",
   "execution_count": 13,
   "id": "57981c7d",
   "metadata": {},
   "outputs": [
    {
     "data": {
      "text/plain": [
       "66"
      ]
     },
     "execution_count": 13,
     "metadata": {},
     "output_type": "execute_result"
    }
   ],
   "source": [
    "random.randrange(-90, 90, step=3)"
   ]
  },
  {
   "cell_type": "code",
   "execution_count": 14,
   "id": "f00efdc2",
   "metadata": {},
   "outputs": [
    {
     "data": {
      "text/plain": [
       "9.562698741098615"
      ]
     },
     "execution_count": 14,
     "metadata": {},
     "output_type": "execute_result"
    }
   ],
   "source": [
    "# The Uniform ()Function - will return a floating point decimal number\n",
    "random.uniform(-90, 90)"
   ]
  },
  {
   "cell_type": "code",
   "execution_count": 15,
   "id": "b392db0d",
   "metadata": {},
   "outputs": [],
   "source": [
    "# The NumPy and random Modules\n",
    "\n",
    "#Import the NumPy module\n",
    "\n",
    "import numpy as np"
   ]
  },
  {
   "cell_type": "code",
   "execution_count": 16,
   "id": "28455932",
   "metadata": {},
   "outputs": [
    {
     "data": {
      "text/plain": [
       "-29.73997815511693"
      ]
     },
     "execution_count": 16,
     "metadata": {},
     "output_type": "execute_result"
    }
   ],
   "source": [
    "np.random.uniform(-90.000, 90.000)"
   ]
  },
  {
   "cell_type": "code",
   "execution_count": 17,
   "id": "8c002ee7",
   "metadata": {},
   "outputs": [
    {
     "data": {
      "text/plain": [
       "array([-78.10990097, -74.03636075, -69.78657829, -65.34761358,\n",
       "        -0.1618486 ,  88.45950685,  64.29334523,  65.42081522,\n",
       "        44.38961015,  48.18948359,  28.53552694,  22.74923156,\n",
       "        65.20155845, -80.67288277,   3.07629219, -41.9118109 ,\n",
       "       -43.00952259, -60.53650173, -23.00410296, -14.84835481,\n",
       "         2.85341597,  -6.03727438,  25.82993352,  15.23438358,\n",
       "        43.2889148 ,  13.58837347,  63.60370772, -30.80544549,\n",
       "        33.56420269,  40.50547121, -84.69766736, -15.44048172,\n",
       "        54.40054706, -50.09730833, -10.34831969,  -1.03610532,\n",
       "       -50.2270236 ,  17.33175381,  75.19205324, -14.85274447,\n",
       "       -15.83209578, -28.43081933, -49.66038679, -81.63661808,\n",
       "       -37.50584762,  26.32979272, -84.52361325,  76.15986845,\n",
       "       -56.53450421,  32.99502614])"
      ]
     },
     "execution_count": 17,
     "metadata": {},
     "output_type": "execute_result"
    }
   ],
   "source": [
    "np.random.uniform(-90.000, 90.000, size=50)"
   ]
  },
  {
   "cell_type": "code",
   "execution_count": 18,
   "id": "68883143",
   "metadata": {},
   "outputs": [],
   "source": [
    "# Import timeit\n",
    "\n",
    "import timeit"
   ]
  },
  {
   "cell_type": "code",
   "execution_count": 19,
   "id": "6d19f4b3",
   "metadata": {},
   "outputs": [
    {
     "name": "stdout",
     "output_type": "stream",
     "text": [
      "11.2 µs ± 433 ns per loop (mean ± std. dev. of 7 runs, 100000 loops each)\n"
     ]
    }
   ],
   "source": [
    "%timeit np.random.uniform(-90.000, 90.000, size=1500)"
   ]
  },
  {
   "cell_type": "code",
   "execution_count": 20,
   "id": "82905071",
   "metadata": {},
   "outputs": [
    {
     "name": "stdout",
     "output_type": "stream",
     "text": [
      "1.23 ms ± 9.93 µs per loop (mean ± std. dev. of 7 runs, 1000 loops each)\n"
     ]
    }
   ],
   "source": [
    "def latitudes(size):\n",
    "    \n",
    "    latitudes =[]\n",
    "    \n",
    "    x=0\n",
    "    \n",
    "    while x<(size):\n",
    "        \n",
    "        random_lat = random.randint(-90, 90) + random.random()\n",
    "        \n",
    "        latitudes.append(random_lat)\n",
    "        \n",
    "        x+=1\n",
    "        \n",
    "    return latitudes\n",
    "\n",
    "# Call the function with 1500\n",
    "\n",
    "%timeit latitudes(1500)"
   ]
  },
  {
   "cell_type": "code",
   "execution_count": null,
   "id": "6d1a4e27",
   "metadata": {},
   "outputs": [],
   "source": []
  }
 ],
 "metadata": {
  "kernelspec": {
   "display_name": "PythonData",
   "language": "python",
   "name": "pythondata"
  },
  "language_info": {
   "codemirror_mode": {
    "name": "ipython",
    "version": 3
   },
   "file_extension": ".py",
   "mimetype": "text/x-python",
   "name": "python",
   "nbconvert_exporter": "python",
   "pygments_lexer": "ipython3",
   "version": "3.7.13"
  }
 },
 "nbformat": 4,
 "nbformat_minor": 5
}
