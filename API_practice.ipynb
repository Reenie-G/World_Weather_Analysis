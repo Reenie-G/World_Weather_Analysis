{
 "cells": [
  {
   "cell_type": "code",
   "execution_count": 1,
   "id": "f5aa2016",
   "metadata": {},
   "outputs": [],
   "source": [
    "# 6.1.4\n",
    "\n",
    "# Import the dependencies.\n",
    "import pandas as pd\n",
    "import matplotlib.pyplot as plt\n",
    "import numpy as np\n",
    "\n"
   ]
  },
  {
   "cell_type": "code",
   "execution_count": 2,
   "id": "3e312696",
   "metadata": {},
   "outputs": [],
   "source": [
    "# Create a practice set of random latitude and longitude combinations\n",
    "\n",
    "lats = [25.12903645, 25.92017388, 26.62509167, -59.98969384, 37.30571269]\n",
    "\n",
    "lngs = [-67.59741259, 11.09532135, 74.84233102, -76.89176677, -61.13376282]\n",
    "\n",
    "lat_lngs = zip(lats, lngs)"
   ]
  },
  {
   "cell_type": "code",
   "execution_count": 3,
   "id": "d696af8e",
   "metadata": {},
   "outputs": [],
   "source": [
    "# Unpack the lat_lngs zip object into a list\n",
    "\n",
    "# Add the latitudes and longitudes to a list\n",
    "\n",
    "coordinates = list(lat_lngs)"
   ]
  },
  {
   "cell_type": "code",
   "execution_count": 4,
   "id": "81b8069a",
   "metadata": {},
   "outputs": [
    {
     "name": "stdout",
     "output_type": "stream",
     "text": [
      "25.12903645 -67.59741259\n",
      "25.92017388 11.09532135\n",
      "26.62509167 74.84233102\n",
      "-59.98969384 -76.89176677\n",
      "37.30571269 -61.13376282\n"
     ]
    }
   ],
   "source": [
    "# Use the print() function to display the latitude and longitude combinations\n",
    "\n",
    "# ***TUPLE CAN ONLY BE UNZIPPED ONCE***\n",
    "\n",
    "for coordinate in coordinates:\n",
    "    print(coordinate[0], coordinate[1])"
   ]
  },
  {
   "cell_type": "code",
   "execution_count": 5,
   "id": "3c7c5656",
   "metadata": {},
   "outputs": [
    {
     "data": {
      "text/plain": [
       "<zip at 0x20857b6c388>"
      ]
     },
     "execution_count": 5,
     "metadata": {},
     "output_type": "execute_result"
    }
   ],
   "source": [
    "# Create a set of random latitude and longitude combinations.\n",
    "lats = np.random.uniform(low=-90.000, high=90.000, size=1500)\n",
    "lngs = np.random.uniform(low=-180.000, high=180.000, size=1500)\n",
    "lat_lngs = zip(lats, lngs)\n",
    "lat_lngs"
   ]
  },
  {
   "cell_type": "code",
   "execution_count": 6,
   "id": "1351fd8f",
   "metadata": {},
   "outputs": [],
   "source": [
    "# 6.1.5 Generate Random World Cities\n",
    "\n",
    "# Use the citipy module to determine city based on latitude and longitude\n",
    "\n",
    "from citipy import citipy "
   ]
  },
  {
   "cell_type": "code",
   "execution_count": 7,
   "id": "54248e79",
   "metadata": {},
   "outputs": [
    {
     "name": "stdout",
     "output_type": "stream",
     "text": [
      "cockburn town tc\n",
      "gat ly\n",
      "parvatsar in\n",
      "punta arenas cl\n",
      "saint george bm\n"
     ]
    }
   ],
   "source": [
    "# Use the print() function to display the latitude and longitude combinations\n",
    "\n",
    "for coordinate in coordinates:\n",
    "    print(citipy.nearest_city(coordinate[0], coordinate[1]).city_name,\n",
    "          citipy.nearest_city(coordinate[0], coordinate[1]).country_code)"
   ]
  },
  {
   "cell_type": "code",
   "execution_count": 8,
   "id": "b0143dae",
   "metadata": {},
   "outputs": [
    {
     "data": {
      "text/plain": [
       "610"
      ]
     },
     "execution_count": 8,
     "metadata": {},
     "output_type": "execute_result"
    }
   ],
   "source": [
    "from citipy import citipy\n",
    "\n",
    "# Create a list for holding the cities\n",
    "\n",
    "cities = []\n",
    "# Identify the nearest city for each latitude and longitude combination.\n",
    "for coordinate in lat_lngs:\n",
    "    city = citipy.nearest_city(coordinate[0], coordinate[1]).city_name\n",
    "\n",
    "    # If the city is unique, then we will add it to the cities list.\n",
    "    if city not in cities:\n",
    "        cities.append(city)\n",
    "# Print the city count to confirm sufficient count.\n",
    "len(cities)"
   ]
  },
  {
   "cell_type": "code",
   "execution_count": 9,
   "id": "c809f403",
   "metadata": {},
   "outputs": [],
   "source": [
    "# 6.2.3 Make an API Call\n",
    "# Import the requests library.\n",
    "import requests\n",
    "\n",
    "# Import the API key.\n",
    "from config import weather_api_key"
   ]
  },
  {
   "cell_type": "code",
   "execution_count": 10,
   "id": "ed36b08a",
   "metadata": {},
   "outputs": [
    {
     "name": "stdout",
     "output_type": "stream",
     "text": [
      "http://api.openweathermap.org/data/2.5/weather?units=Imperial&APPID=ff28c9464a46cc3baf5ebf58252b7a73\n"
     ]
    }
   ],
   "source": [
    "# Starting URL for Weather Map API Call.\n",
    "url = \"http://api.openweathermap.org/data/2.5/weather?units=Imperial&APPID=\" + weather_api_key\n",
    "print(url)"
   ]
  },
  {
   "cell_type": "code",
   "execution_count": 11,
   "id": "31eb32b7",
   "metadata": {},
   "outputs": [
    {
     "name": "stdout",
     "output_type": "stream",
     "text": [
      "http://api.openweathermap.org/data/2.5/weather?units=Imperial&APPID=ff28c9464a46cc3baf5ebf58252b7a73&q=Boston\n"
     ]
    }
   ],
   "source": [
    "city_url = url + \"&q=\" + \"Boston\"\n",
    "print(city_url)"
   ]
  },
  {
   "cell_type": "code",
   "execution_count": 12,
   "id": "317af029",
   "metadata": {},
   "outputs": [
    {
     "data": {
      "text/plain": [
       "<Response [200]>"
      ]
     },
     "execution_count": 12,
     "metadata": {},
     "output_type": "execute_result"
    }
   ],
   "source": [
    "# 6.2.4 Retrieve a Response using the get()method \n",
    "\n",
    "# Make a 'Get' request for the city weather.\n",
    "\n",
    "city_weather = requests.get(city_url)\n",
    "city_weather"
   ]
  },
  {
   "cell_type": "code",
   "execution_count": 13,
   "id": "ffd8bf15",
   "metadata": {},
   "outputs": [
    {
     "data": {
      "text/plain": [
       "<Response [404]>"
      ]
     },
     "execution_count": 13,
     "metadata": {},
     "output_type": "execute_result"
    }
   ],
   "source": [
    "# Create an endpoint URL for a city\n",
    "\n",
    "city_url = url + \"&q=\" + \"Bston\"\n",
    "city_weather = requests.get(city_url)\n",
    "city_weather"
   ]
  },
  {
   "cell_type": "code",
   "execution_count": 14,
   "id": "ff7d67d5",
   "metadata": {},
   "outputs": [
    {
     "data": {
      "text/plain": [
       "<Response [200]>"
      ]
     },
     "execution_count": 14,
     "metadata": {},
     "output_type": "execute_result"
    }
   ],
   "source": [
    "# Get Data from a Response\n",
    "\n",
    "# Create an endpoint URL for a city\n",
    "city_url = url + \"&q=\" + \"Boston\"\n",
    "city_weather = requests.get(city_url)\n",
    "city_weather"
   ]
  },
  {
   "cell_type": "code",
   "execution_count": 15,
   "id": "0e9cf016",
   "metadata": {},
   "outputs": [
    {
     "data": {
      "text/plain": [
       "'{\"coord\":{\"lon\":-71.0598,\"lat\":42.3584},\"weather\":[{\"id\":802,\"main\":\"Clouds\",\"description\":\"scattered clouds\",\"icon\":\"03n\"}],\"base\":\"stations\",\"main\":{\"temp\":74.7,\"feels_like\":74.44,\"temp_min\":69.69,\"temp_max\":77.45,\"pressure\":1013,\"humidity\":55},\"visibility\":10000,\"wind\":{\"speed\":12.66,\"deg\":20},\"clouds\":{\"all\":40},\"dt\":1657153682,\"sys\":{\"type\":2,\"id\":2013408,\"country\":\"US\",\"sunrise\":1657098837,\"sunset\":1657153420},\"timezone\":-14400,\"id\":4930956,\"name\":\"Boston\",\"cod\":200}'"
      ]
     },
     "execution_count": 15,
     "metadata": {},
     "output_type": "execute_result"
    }
   ],
   "source": [
    "#Get the text of the 'Get' request\n",
    "\n",
    "city_weather.text"
   ]
  },
  {
   "cell_type": "code",
   "execution_count": 16,
   "id": "de958372",
   "metadata": {},
   "outputs": [
    {
     "data": {
      "text/plain": [
       "{'coord': {'lon': -71.0598, 'lat': 42.3584},\n",
       " 'weather': [{'id': 802,\n",
       "   'main': 'Clouds',\n",
       "   'description': 'scattered clouds',\n",
       "   'icon': '03n'}],\n",
       " 'base': 'stations',\n",
       " 'main': {'temp': 74.7,\n",
       "  'feels_like': 74.44,\n",
       "  'temp_min': 69.69,\n",
       "  'temp_max': 77.45,\n",
       "  'pressure': 1013,\n",
       "  'humidity': 55},\n",
       " 'visibility': 10000,\n",
       " 'wind': {'speed': 12.66, 'deg': 20},\n",
       " 'clouds': {'all': 40},\n",
       " 'dt': 1657153682,\n",
       " 'sys': {'type': 2,\n",
       "  'id': 2013408,\n",
       "  'country': 'US',\n",
       "  'sunrise': 1657098837,\n",
       "  'sunset': 1657153420},\n",
       " 'timezone': -14400,\n",
       " 'id': 4930956,\n",
       " 'name': 'Boston',\n",
       " 'cod': 200}"
      ]
     },
     "execution_count": 16,
     "metadata": {},
     "output_type": "execute_result"
    }
   ],
   "source": [
    "# Get the JSON text for the 'Get' request\n",
    "\n",
    "city_weather.json()"
   ]
  },
  {
   "cell_type": "code",
   "execution_count": 17,
   "id": "4f5242d0",
   "metadata": {},
   "outputs": [
    {
     "name": "stdout",
     "output_type": "stream",
     "text": [
      "City Weather found.\n"
     ]
    }
   ],
   "source": [
    "# Handle Request Errors\n",
    "# Create an endpoint URL for a city\n",
    "\n",
    "city_url = url + \"&q=\" + \"Boston\"\n",
    "\n",
    "city_weather = requests.get(city_url)\n",
    "\n",
    "if city_weather.status_code == 200:\n",
    "    print(f\"City Weather found.\")\n",
    "    \n",
    "else:\n",
    "    print(f\"City weather not found.\")"
   ]
  },
  {
   "cell_type": "code",
   "execution_count": 18,
   "id": "e56ca59b",
   "metadata": {},
   "outputs": [
    {
     "name": "stdout",
     "output_type": "stream",
     "text": [
      "City Weather not found.\n"
     ]
    }
   ],
   "source": [
    "# Create an endpoint URL for a city\n",
    "\n",
    "city_url = url + \"&q=\" + \"Bston\"\n",
    "\n",
    "city_weather = requests.get(city_url)\n",
    "\n",
    "if city_weather.status_code ==200:\n",
    "    print(f\"City Weather Found.\")\n",
    "    \n",
    "else:\n",
    "    print(f\"City Weather not found.\")"
   ]
  },
  {
   "cell_type": "code",
   "execution_count": 19,
   "id": "2b853a34",
   "metadata": {},
   "outputs": [
    {
     "data": {
      "text/plain": [
       "{'coord': {'lon': -71.0598, 'lat': 42.3584},\n",
       " 'weather': [{'id': 802,\n",
       "   'main': 'Clouds',\n",
       "   'description': 'scattered clouds',\n",
       "   'icon': '03n'}],\n",
       " 'base': 'stations',\n",
       " 'main': {'temp': 74.7,\n",
       "  'feels_like': 74.44,\n",
       "  'temp_min': 69.69,\n",
       "  'temp_max': 77.45,\n",
       "  'pressure': 1013,\n",
       "  'humidity': 55},\n",
       " 'visibility': 10000,\n",
       " 'wind': {'speed': 12.66, 'deg': 20},\n",
       " 'clouds': {'all': 40},\n",
       " 'dt': 1657153682,\n",
       " 'sys': {'type': 2,\n",
       "  'id': 2013408,\n",
       "  'country': 'US',\n",
       "  'sunrise': 1657098837,\n",
       "  'sunset': 1657153420},\n",
       " 'timezone': -14400,\n",
       " 'id': 4930956,\n",
       " 'name': 'Boston',\n",
       " 'cod': 200}"
      ]
     },
     "execution_count": 19,
     "metadata": {},
     "output_type": "execute_result"
    }
   ],
   "source": [
    "# 6.2.5 Parse a Response from an API\n",
    "# Create an endpoint URL for a city\n",
    "\n",
    "city_url = url + \"&q=\" + \"Boston\"\n",
    "city_weather = requests.get(city_url)\n",
    "city_weather.json()"
   ]
  },
  {
   "cell_type": "code",
   "execution_count": 20,
   "id": "404873fa",
   "metadata": {},
   "outputs": [],
   "source": [
    "# Get the JSON data\n",
    "\n",
    "boston_data = city_weather.json()"
   ]
  },
  {
   "cell_type": "code",
   "execution_count": 21,
   "id": "d542bde6",
   "metadata": {},
   "outputs": [
    {
     "data": {
      "text/plain": [
       "{'type': 2,\n",
       " 'id': 2013408,\n",
       " 'country': 'US',\n",
       " 'sunrise': 1657098837,\n",
       " 'sunset': 1657153420}"
      ]
     },
     "execution_count": 21,
     "metadata": {},
     "output_type": "execute_result"
    }
   ],
   "source": [
    "boston_data[\"sys\"]"
   ]
  },
  {
   "cell_type": "code",
   "execution_count": 22,
   "id": "94052a9d",
   "metadata": {},
   "outputs": [
    {
     "data": {
      "text/plain": [
       "'US'"
      ]
     },
     "execution_count": 22,
     "metadata": {},
     "output_type": "execute_result"
    }
   ],
   "source": [
    "boston_data[\"sys\"][\"country\"]"
   ]
  },
  {
   "cell_type": "code",
   "execution_count": 23,
   "id": "e2f62610",
   "metadata": {},
   "outputs": [
    {
     "data": {
      "text/plain": [
       "1657153682"
      ]
     },
     "execution_count": 23,
     "metadata": {},
     "output_type": "execute_result"
    }
   ],
   "source": [
    "boston_data[\"dt\"]"
   ]
  },
  {
   "cell_type": "code",
   "execution_count": 24,
   "id": "a91c26c3",
   "metadata": {},
   "outputs": [
    {
     "name": "stdout",
     "output_type": "stream",
     "text": [
      "42.3584 -71.0598 77.45 55 40 12.66\n"
     ]
    }
   ],
   "source": [
    "# Getting time of day, latitude,longitude,max temp,humidity, %cloudiness & wind speed\n",
    "\n",
    "lat = boston_data[\"coord\"][\"lat\"]\n",
    "lng = boston_data[\"coord\"][\"lon\"]\n",
    "max_temp = boston_data[\"main\"][\"temp_max\"]\n",
    "humidity = boston_data[\"main\"][\"humidity\"]\n",
    "clouds = boston_data[\"clouds\"][\"all\"]\n",
    "wind = boston_data[\"wind\"][\"speed\"]\n",
    "print(lat, lng, max_temp, humidity, clouds, wind)"
   ]
  },
  {
   "cell_type": "code",
   "execution_count": 25,
   "id": "b0516a97",
   "metadata": {},
   "outputs": [
    {
     "data": {
      "text/plain": [
       "1657153682"
      ]
     },
     "execution_count": 25,
     "metadata": {},
     "output_type": "execute_result"
    }
   ],
   "source": [
    "# Convert the Date Timestamp\n",
    "# Coordinated Universal Time(UTC) or Greenwhich Mean Time(GMT)\n",
    "boston_data[\"dt\"]"
   ]
  },
  {
   "cell_type": "code",
   "execution_count": 26,
   "id": "a35fe100",
   "metadata": {},
   "outputs": [
    {
     "data": {
      "text/plain": [
       "datetime.datetime(2022, 7, 7, 0, 28, 2)"
      ]
     },
     "execution_count": 26,
     "metadata": {},
     "output_type": "execute_result"
    }
   ],
   "source": [
    "# ISO Format\n",
    "\n",
    "# Import the datetime module from the datetime library\n",
    "\n",
    "from datetime import datetime\n",
    "\n",
    "# Get the date from the JSON file\n",
    "\n",
    "date = boston_data[\"dt\"]\n",
    "\n",
    "# Convert the UTC date to a date format with year,month,day,hours,minutes and seconds\n",
    "\n",
    "datetime.utcfromtimestamp(date)"
   ]
  },
  {
   "cell_type": "code",
   "execution_count": 27,
   "id": "638b8125",
   "metadata": {},
   "outputs": [
    {
     "data": {
      "text/plain": [
       "'2022-07-07 00:28:02'"
      ]
     },
     "execution_count": 27,
     "metadata": {},
     "output_type": "execute_result"
    }
   ],
   "source": [
    "# Convert datetime to python string format\n",
    "datetime.utcfromtimestamp(date).strftime('%Y-%m-%d %H:%M:%S')"
   ]
  },
  {
   "cell_type": "code",
   "execution_count": 28,
   "id": "bcbb18b8",
   "metadata": {},
   "outputs": [],
   "source": [
    "# 6.2.6 Get the City Weather Data\n",
    "# Import the dependencies, and Initialize an Empty List and Counters\n",
    "\n",
    "# Import the time library and the datetime module from the datetime library \n",
    "import time\n",
    "from datetime import datetime"
   ]
  },
  {
   "cell_type": "code",
   "execution_count": null,
   "id": "9c4d39fc",
   "metadata": {},
   "outputs": [],
   "source": []
  },
  {
   "cell_type": "code",
   "execution_count": 29,
   "id": "1a367b41",
   "metadata": {},
   "outputs": [
    {
     "name": "stdout",
     "output_type": "stream",
     "text": [
      "Beginning Data Retrieval     \n",
      "-----------------------------\n",
      "Processing Record 1 of Set 1 | hobart\n",
      "Processing Record 2 of Set 1 | bredasdorp\n",
      "Processing Record 3 of Set 1 | rikitea\n",
      "Processing Record 4 of Set 1 | kapaa\n",
      "Processing Record 5 of Set 1 | mataura\n",
      "Processing Record 6 of Set 1 | nikolskoye\n",
      "Processing Record 7 of Set 1 | east london\n",
      "Processing Record 8 of Set 1 | qaanaaq\n",
      "Processing Record 9 of Set 1 | ushuaia\n",
      "Processing Record 10 of Set 1 | busselton\n",
      "Processing Record 11 of Set 1 | ketchikan\n",
      "Processing Record 12 of Set 1 | bluff\n",
      "Processing Record 13 of Set 1 | yerbogachen\n",
      "Processing Record 14 of Set 1 | puerto ayora\n",
      "Processing Record 15 of Set 1 | sur\n",
      "Processing Record 16 of Set 1 | punta arenas\n",
      "Processing Record 17 of Set 1 | georgetown\n",
      "Processing Record 18 of Set 1 | chuy\n",
      "Processing Record 19 of Set 1 | kapoeta\n",
      "Processing Record 20 of Set 1 | port hueneme\n",
      "Processing Record 21 of Set 1 | saint anthony\n",
      "Processing Record 22 of Set 1 | dikson\n",
      "Processing Record 23 of Set 1 | iranduba\n",
      "Processing Record 24 of Set 1 | nizhneyansk\n",
      "City not found. Skipping...\n",
      "Processing Record 25 of Set 1 | staffanstorp\n",
      "Processing Record 26 of Set 1 | thompson\n",
      "Processing Record 27 of Set 1 | murliganj\n",
      "Processing Record 28 of Set 1 | kaseda\n",
      "Processing Record 29 of Set 1 | hukuntsi\n",
      "Processing Record 30 of Set 1 | saskylakh\n",
      "Processing Record 31 of Set 1 | yulara\n",
      "Processing Record 32 of Set 1 | paradwip\n",
      "City not found. Skipping...\n",
      "Processing Record 33 of Set 1 | barrow\n",
      "Processing Record 34 of Set 1 | trincomalee\n",
      "Processing Record 35 of Set 1 | kutum\n",
      "Processing Record 36 of Set 1 | danjiangkou\n",
      "Processing Record 37 of Set 1 | palmer\n",
      "Processing Record 38 of Set 1 | port elizabeth\n",
      "Processing Record 39 of Set 1 | butaritari\n",
      "Processing Record 40 of Set 1 | bandrele\n",
      "Processing Record 41 of Set 1 | mar del plata\n",
      "Processing Record 42 of Set 1 | vaini\n",
      "Processing Record 43 of Set 1 | altay\n",
      "Processing Record 44 of Set 1 | sagua la grande\n",
      "Processing Record 45 of Set 1 | cherskiy\n",
      "Processing Record 46 of Set 1 | albany\n",
      "Processing Record 47 of Set 1 | ribeira grande\n",
      "Processing Record 48 of Set 1 | lompoc\n",
      "Processing Record 49 of Set 1 | cape town\n",
      "Processing Record 50 of Set 1 | iguape\n",
      "Processing Record 1 of Set 2 | kysyl-syr\n",
      "Processing Record 2 of Set 2 | namibe\n",
      "Processing Record 3 of Set 2 | amderma\n",
      "City not found. Skipping...\n",
      "Processing Record 4 of Set 2 | san luis\n",
      "Processing Record 5 of Set 2 | san policarpo\n",
      "Processing Record 6 of Set 2 | sarramea\n",
      "Processing Record 7 of Set 2 | lebu\n",
      "Processing Record 8 of Set 2 | faya\n",
      "Processing Record 9 of Set 2 | lagoa\n",
      "Processing Record 10 of Set 2 | suez\n",
      "Processing Record 11 of Set 2 | abha\n",
      "Processing Record 12 of Set 2 | kropotkin\n",
      "Processing Record 13 of Set 2 | honiara\n",
      "Processing Record 14 of Set 2 | vaitupu\n",
      "City not found. Skipping...\n",
      "Processing Record 15 of Set 2 | yar-sale\n",
      "Processing Record 16 of Set 2 | castro\n",
      "Processing Record 17 of Set 2 | kobe\n",
      "Processing Record 18 of Set 2 | hithadhoo\n",
      "Processing Record 19 of Set 2 | nanakuli\n",
      "Processing Record 20 of Set 2 | mys shmidta\n",
      "City not found. Skipping...\n",
      "Processing Record 21 of Set 2 | isangel\n",
      "Processing Record 22 of Set 2 | alta floresta\n",
      "Processing Record 23 of Set 2 | atuona\n",
      "Processing Record 24 of Set 2 | caravelas\n",
      "Processing Record 25 of Set 2 | thinadhoo\n",
      "Processing Record 26 of Set 2 | hermanus\n",
      "Processing Record 27 of Set 2 | ilulissat\n",
      "Processing Record 28 of Set 2 | rolim de moura\n",
      "City not found. Skipping...\n",
      "Processing Record 29 of Set 2 | torbay\n",
      "Processing Record 30 of Set 2 | sibolga\n",
      "Processing Record 31 of Set 2 | linxia\n",
      "Processing Record 32 of Set 2 | at-bashi\n",
      "Processing Record 33 of Set 2 | yumbel\n",
      "Processing Record 34 of Set 2 | chinhoyi\n",
      "Processing Record 35 of Set 2 | port alfred\n",
      "Processing Record 36 of Set 2 | hobyo\n",
      "Processing Record 37 of Set 2 | kawana waters\n",
      "City not found. Skipping...\n",
      "Processing Record 38 of Set 2 | cockburn town\n",
      "Processing Record 39 of Set 2 | vyartsilya\n",
      "Processing Record 40 of Set 2 | salym\n",
      "Processing Record 41 of Set 2 | menomonie\n",
      "Processing Record 42 of Set 2 | port blair\n",
      "Processing Record 43 of Set 2 | sentyabrskiy\n",
      "City not found. Skipping...\n",
      "Processing Record 44 of Set 2 | comodoro rivadavia\n",
      "Processing Record 45 of Set 2 | deputatskiy\n",
      "Processing Record 46 of Set 2 | divnoye\n",
      "Processing Record 47 of Set 2 | taolanaro\n",
      "City not found. Skipping...\n",
      "Processing Record 48 of Set 2 | khatanga\n",
      "Processing Record 49 of Set 2 | newark\n",
      "Processing Record 50 of Set 2 | barentsburg\n",
      "City not found. Skipping...\n",
      "Processing Record 1 of Set 3 | new norfolk\n",
      "Processing Record 2 of Set 3 | kununurra\n",
      "Processing Record 3 of Set 3 | vostok\n",
      "Processing Record 4 of Set 3 | sainte-suzanne\n",
      "Processing Record 5 of Set 3 | sola\n",
      "Processing Record 6 of Set 3 | talnakh\n",
      "Processing Record 7 of Set 3 | mendi\n",
      "Processing Record 8 of Set 3 | dunedin\n",
      "Processing Record 9 of Set 3 | nguiu\n",
      "City not found. Skipping...\n",
      "Processing Record 10 of Set 3 | hilo\n",
      "Processing Record 11 of Set 3 | saint george\n",
      "Processing Record 12 of Set 3 | tiznit\n",
      "Processing Record 13 of Set 3 | hitoyoshi\n",
      "Processing Record 14 of Set 3 | margate\n",
      "Processing Record 15 of Set 3 | shelburne\n",
      "Processing Record 16 of Set 3 | ituni\n",
      "City not found. Skipping...\n",
      "Processing Record 17 of Set 3 | provideniya\n",
      "Processing Record 18 of Set 3 | chaman\n",
      "Processing Record 19 of Set 3 | willmar\n",
      "Processing Record 20 of Set 3 | alamosa\n",
      "Processing Record 21 of Set 3 | geraldton\n",
      "Processing Record 22 of Set 3 | fort nelson\n",
      "Processing Record 23 of Set 3 | shimoda\n",
      "Processing Record 24 of Set 3 | pisco\n",
      "Processing Record 25 of Set 3 | basco\n",
      "Processing Record 26 of Set 3 | cururupu\n",
      "Processing Record 27 of Set 3 | saint-joseph\n",
      "Processing Record 28 of Set 3 | dali\n",
      "Processing Record 29 of Set 3 | kahului\n",
      "Processing Record 30 of Set 3 | tawau\n",
      "Processing Record 31 of Set 3 | norman wells\n",
      "Processing Record 32 of Set 3 | port hedland\n",
      "Processing Record 33 of Set 3 | louisbourg\n",
      "City not found. Skipping...\n",
      "Processing Record 34 of Set 3 | youghal\n",
      "Processing Record 35 of Set 3 | eureka\n",
      "Processing Record 36 of Set 3 | sao joao da barra\n",
      "Processing Record 37 of Set 3 | amahai\n",
      "Processing Record 38 of Set 3 | show low\n",
      "Processing Record 39 of Set 3 | touros\n",
      "Processing Record 40 of Set 3 | kangaatsiaq\n",
      "Processing Record 41 of Set 3 | aklavik\n",
      "Processing Record 42 of Set 3 | keflavik\n",
      "Processing Record 43 of Set 3 | sabha\n",
      "Processing Record 44 of Set 3 | conde\n",
      "Processing Record 45 of Set 3 | airai\n",
      "Processing Record 46 of Set 3 | tuktoyaktuk\n",
      "Processing Record 47 of Set 3 | leningradskiy\n",
      "Processing Record 48 of Set 3 | san cristobal\n",
      "Processing Record 49 of Set 3 | te anau\n",
      "Processing Record 50 of Set 3 | tuatapere\n",
      "Processing Record 1 of Set 4 | davila\n",
      "Processing Record 2 of Set 4 | husavik\n",
      "Processing Record 3 of Set 4 | disna\n",
      "Processing Record 4 of Set 4 | kismayo\n",
      "Processing Record 5 of Set 4 | pereleshinskiy\n",
      "Processing Record 6 of Set 4 | mahebourg\n",
      "Processing Record 7 of Set 4 | tasiilaq\n",
      "Processing Record 8 of Set 4 | los algarrobos\n",
      "Processing Record 9 of Set 4 | attawapiskat\n",
      "City not found. Skipping...\n",
      "Processing Record 10 of Set 4 | saint-paul\n",
      "Processing Record 11 of Set 4 | ahipara\n",
      "Processing Record 12 of Set 4 | illoqqortoormiut\n",
      "City not found. Skipping...\n",
      "Processing Record 13 of Set 4 | lazaro cardenas\n",
      "Processing Record 14 of Set 4 | eldikan\n",
      "City not found. Skipping...\n",
      "Processing Record 15 of Set 4 | mountmellick\n",
      "Processing Record 16 of Set 4 | dongsheng\n",
      "Processing Record 17 of Set 4 | aksu\n",
      "Processing Record 18 of Set 4 | san andres\n",
      "Processing Record 19 of Set 4 | grand river south east\n",
      "City not found. Skipping...\n",
      "Processing Record 20 of Set 4 | sabang\n",
      "Processing Record 21 of Set 4 | chara\n",
      "Processing Record 22 of Set 4 | ayan\n",
      "Processing Record 23 of Set 4 | flinders\n",
      "Processing Record 24 of Set 4 | superior\n",
      "Processing Record 25 of Set 4 | tawkar\n",
      "City not found. Skipping...\n",
      "Processing Record 26 of Set 4 | richards bay\n",
      "Processing Record 27 of Set 4 | kesova gora\n",
      "Processing Record 28 of Set 4 | jamestown\n",
      "Processing Record 29 of Set 4 | yellowknife\n",
      "Processing Record 30 of Set 4 | coquimbo\n",
      "Processing Record 31 of Set 4 | verkhoyansk\n",
      "Processing Record 32 of Set 4 | tsihombe\n",
      "City not found. Skipping...\n",
      "Processing Record 33 of Set 4 | palabuhanratu\n",
      "City not found. Skipping...\n",
      "Processing Record 34 of Set 4 | coihaique\n"
     ]
    },
    {
     "name": "stdout",
     "output_type": "stream",
     "text": [
      "Processing Record 35 of Set 4 | longyearbyen\n",
      "Processing Record 36 of Set 4 | alvinopolis\n",
      "Processing Record 37 of Set 4 | bilibino\n",
      "Processing Record 38 of Set 4 | umm kaddadah\n",
      "Processing Record 39 of Set 4 | hofn\n",
      "Processing Record 40 of Set 4 | bethel\n",
      "Processing Record 41 of Set 4 | marsa matruh\n",
      "Processing Record 42 of Set 4 | meulaboh\n",
      "Processing Record 43 of Set 4 | ramasukha\n",
      "City not found. Skipping...\n",
      "Processing Record 44 of Set 4 | meyungs\n",
      "City not found. Skipping...\n",
      "Processing Record 45 of Set 4 | gushikawa\n",
      "Processing Record 46 of Set 4 | chengde\n",
      "Processing Record 47 of Set 4 | arraial do cabo\n",
      "Processing Record 48 of Set 4 | severobaykalsk\n",
      "Processing Record 49 of Set 4 | pangnirtung\n",
      "Processing Record 50 of Set 4 | salalah\n",
      "Processing Record 1 of Set 5 | kibala\n",
      "Processing Record 2 of Set 5 | mareeba\n",
      "Processing Record 3 of Set 5 | urusha\n",
      "Processing Record 4 of Set 5 | scottsburgh\n",
      "City not found. Skipping...\n",
      "Processing Record 5 of Set 5 | mindelo\n",
      "Processing Record 6 of Set 5 | karratha\n",
      "Processing Record 7 of Set 5 | teknaf\n",
      "Processing Record 8 of Set 5 | takaungu\n",
      "Processing Record 9 of Set 5 | belushya guba\n",
      "City not found. Skipping...\n",
      "Processing Record 10 of Set 5 | doha\n",
      "Processing Record 11 of Set 5 | lorengau\n",
      "Processing Record 12 of Set 5 | sokur\n",
      "Processing Record 13 of Set 5 | port lincoln\n",
      "Processing Record 14 of Set 5 | tigil\n",
      "Processing Record 15 of Set 5 | jabiru\n",
      "City not found. Skipping...\n",
      "Processing Record 16 of Set 5 | humaita\n",
      "Processing Record 17 of Set 5 | erenhot\n",
      "Processing Record 18 of Set 5 | olinda\n",
      "Processing Record 19 of Set 5 | porto novo\n",
      "Processing Record 20 of Set 5 | menongue\n",
      "Processing Record 21 of Set 5 | vao\n",
      "Processing Record 22 of Set 5 | najran\n",
      "Processing Record 23 of Set 5 | shirokovskiy\n",
      "Processing Record 24 of Set 5 | port shepstone\n",
      "Processing Record 25 of Set 5 | aquiraz\n",
      "Processing Record 26 of Set 5 | llata\n",
      "Processing Record 27 of Set 5 | storsteinnes\n",
      "Processing Record 28 of Set 5 | carnarvon\n",
      "Processing Record 29 of Set 5 | constitucion\n",
      "Processing Record 30 of Set 5 | khuzdar\n",
      "Processing Record 31 of Set 5 | medea\n",
      "Processing Record 32 of Set 5 | biloela\n",
      "Processing Record 33 of Set 5 | andenes\n",
      "Processing Record 34 of Set 5 | bengkulu\n",
      "Processing Record 35 of Set 5 | nabire\n",
      "Processing Record 36 of Set 5 | pevek\n",
      "Processing Record 37 of Set 5 | le vauclin\n",
      "Processing Record 38 of Set 5 | maceio\n",
      "Processing Record 39 of Set 5 | christchurch\n",
      "Processing Record 40 of Set 5 | vanimo\n",
      "Processing Record 41 of Set 5 | san quintin\n",
      "Processing Record 42 of Set 5 | bathsheba\n",
      "Processing Record 43 of Set 5 | guerrero negro\n",
      "Processing Record 44 of Set 5 | san jose\n",
      "Processing Record 45 of Set 5 | saint-philippe\n",
      "Processing Record 46 of Set 5 | laguna\n",
      "Processing Record 47 of Set 5 | severo-yeniseyskiy\n",
      "Processing Record 48 of Set 5 | saldanha\n",
      "Processing Record 49 of Set 5 | zhitikara\n",
      "City not found. Skipping...\n",
      "Processing Record 50 of Set 5 | maposeni\n",
      "Processing Record 1 of Set 6 | mount isa\n",
      "Processing Record 2 of Set 6 | saleaula\n",
      "City not found. Skipping...\n",
      "Processing Record 3 of Set 6 | makakilo city\n",
      "Processing Record 4 of Set 6 | moron\n",
      "Processing Record 5 of Set 6 | aljezur\n",
      "Processing Record 6 of Set 6 | vienenburg\n",
      "Processing Record 7 of Set 6 | domoni\n",
      "Processing Record 8 of Set 6 | tecoanapa\n",
      "Processing Record 9 of Set 6 | jiangyou\n",
      "Processing Record 10 of Set 6 | nome\n",
      "Processing Record 11 of Set 6 | rabo de peixe\n",
      "Processing Record 12 of Set 6 | poum\n",
      "Processing Record 13 of Set 6 | ondorhaan\n",
      "City not found. Skipping...\n",
      "Processing Record 14 of Set 6 | avarua\n",
      "Processing Record 15 of Set 6 | zachagansk\n",
      "City not found. Skipping...\n",
      "Processing Record 16 of Set 6 | mbala\n",
      "Processing Record 17 of Set 6 | itarema\n",
      "Processing Record 18 of Set 6 | cidreira\n",
      "Processing Record 19 of Set 6 | ishinomaki\n",
      "Processing Record 20 of Set 6 | ternate\n",
      "Processing Record 21 of Set 6 | solikamsk\n",
      "Processing Record 22 of Set 6 | lata\n",
      "Processing Record 23 of Set 6 | sobolevo\n",
      "Processing Record 24 of Set 6 | ayni\n",
      "Processing Record 25 of Set 6 | lulea\n",
      "Processing Record 26 of Set 6 | broome\n",
      "Processing Record 27 of Set 6 | matara\n",
      "Processing Record 28 of Set 6 | bawku\n",
      "Processing Record 29 of Set 6 | saint-pierre\n",
      "Processing Record 30 of Set 6 | buchanan\n",
      "Processing Record 31 of Set 6 | upernavik\n",
      "Processing Record 32 of Set 6 | hamilton\n",
      "Processing Record 33 of Set 6 | dingle\n",
      "Processing Record 34 of Set 6 | kudahuvadhoo\n",
      "Processing Record 35 of Set 6 | samusu\n",
      "City not found. Skipping...\n",
      "Processing Record 36 of Set 6 | san rafael\n",
      "Processing Record 37 of Set 6 | praia da vitoria\n",
      "Processing Record 38 of Set 6 | tabialan\n",
      "City not found. Skipping...\n",
      "Processing Record 39 of Set 6 | utinga\n",
      "Processing Record 40 of Set 6 | roald\n",
      "Processing Record 41 of Set 6 | tomatlan\n",
      "Processing Record 42 of Set 6 | tazovskiy\n",
      "Processing Record 43 of Set 6 | northam\n",
      "Processing Record 44 of Set 6 | marialva\n",
      "Processing Record 45 of Set 6 | poli\n",
      "Processing Record 46 of Set 6 | abu samrah\n",
      "Processing Record 47 of Set 6 | ambilobe\n",
      "Processing Record 48 of Set 6 | lavrentiya\n",
      "Processing Record 49 of Set 6 | kaeo\n",
      "Processing Record 50 of Set 6 | ostrovnoy\n",
      "Processing Record 1 of Set 7 | waddan\n",
      "Processing Record 2 of Set 7 | chumphon\n",
      "Processing Record 3 of Set 7 | catuday\n",
      "Processing Record 4 of Set 7 | bandarbeyla\n",
      "Processing Record 5 of Set 7 | alamos\n",
      "Processing Record 6 of Set 7 | sulurpeta\n",
      "City not found. Skipping...\n",
      "Processing Record 7 of Set 7 | priyutnoye\n",
      "Processing Record 8 of Set 7 | codrington\n",
      "Processing Record 9 of Set 7 | huarmey\n",
      "Processing Record 10 of Set 7 | petropavlovsk-kamchatskiy\n",
      "Processing Record 11 of Set 7 | boa vista\n",
      "Processing Record 12 of Set 7 | halalo\n",
      "City not found. Skipping...\n",
      "Processing Record 13 of Set 7 | port hardy\n",
      "Processing Record 14 of Set 7 | victoria\n",
      "Processing Record 15 of Set 7 | burnie\n",
      "Processing Record 16 of Set 7 | road town\n",
      "Processing Record 17 of Set 7 | tumannyy\n",
      "City not found. Skipping...\n",
      "Processing Record 18 of Set 7 | ixtapa\n",
      "Processing Record 19 of Set 7 | ancud\n",
      "Processing Record 20 of Set 7 | puerto carreno\n",
      "Processing Record 21 of Set 7 | boyolangu\n",
      "Processing Record 22 of Set 7 | ponta do sol\n",
      "Processing Record 23 of Set 7 | arroyo\n",
      "Processing Record 24 of Set 7 | quatre cocos\n",
      "Processing Record 25 of Set 7 | wahran\n",
      "City not found. Skipping...\n",
      "Processing Record 26 of Set 7 | baykit\n",
      "Processing Record 27 of Set 7 | chama\n",
      "Processing Record 28 of Set 7 | nehe\n",
      "Processing Record 29 of Set 7 | mrirt\n",
      "City not found. Skipping...\n",
      "Processing Record 30 of Set 7 | labuhan\n",
      "Processing Record 31 of Set 7 | kemijarvi\n",
      "Processing Record 32 of Set 7 | necochea\n",
      "Processing Record 33 of Set 7 | tabas\n",
      "Processing Record 34 of Set 7 | jati\n",
      "Processing Record 35 of Set 7 | san patricio\n",
      "Processing Record 36 of Set 7 | rockport\n",
      "Processing Record 37 of Set 7 | chokurdakh\n",
      "Processing Record 38 of Set 7 | yinchuan\n",
      "Processing Record 39 of Set 7 | olafsvik\n",
      "Processing Record 40 of Set 7 | jalu\n",
      "Processing Record 41 of Set 7 | igrim\n",
      "Processing Record 42 of Set 7 | pratapgarh\n",
      "Processing Record 43 of Set 7 | puli\n",
      "Processing Record 44 of Set 7 | gimli\n",
      "Processing Record 45 of Set 7 | say\n",
      "Processing Record 46 of Set 7 | rockland\n",
      "Processing Record 47 of Set 7 | lang son\n",
      "Processing Record 48 of Set 7 | yantal\n",
      "Processing Record 49 of Set 7 | mugumu\n",
      "Processing Record 50 of Set 7 | tiksi\n",
      "Processing Record 1 of Set 8 | sarkand\n",
      "Processing Record 2 of Set 8 | tual\n",
      "Processing Record 3 of Set 8 | kosice\n",
      "Processing Record 4 of Set 8 | esperance\n",
      "Processing Record 5 of Set 8 | tilichiki\n",
      "Processing Record 6 of Set 8 | la ronge\n",
      "Processing Record 7 of Set 8 | takoradi\n",
      "Processing Record 8 of Set 8 | mookane\n",
      "Processing Record 9 of Set 8 | kuytun\n",
      "Processing Record 10 of Set 8 | saint-michel-des-saints\n",
      "Processing Record 11 of Set 8 | birjand\n",
      "Processing Record 12 of Set 8 | sabana de torres\n",
      "Processing Record 13 of Set 8 | belyy yar\n",
      "Processing Record 14 of Set 8 | kavieng\n",
      "Processing Record 15 of Set 8 | tan an\n",
      "Processing Record 16 of Set 8 | banda aceh\n",
      "Processing Record 17 of Set 8 | yichun\n",
      "Processing Record 18 of Set 8 | yatou\n",
      "Processing Record 19 of Set 8 | matsusaka\n",
      "Processing Record 20 of Set 8 | gao\n",
      "Processing Record 21 of Set 8 | kaoma\n",
      "Processing Record 22 of Set 8 | wilmington\n",
      "Processing Record 23 of Set 8 | bereda\n",
      "Processing Record 24 of Set 8 | jardim\n"
     ]
    },
    {
     "name": "stdout",
     "output_type": "stream",
     "text": [
      "Processing Record 25 of Set 8 | luwuk\n",
      "Processing Record 26 of Set 8 | fernie\n",
      "Processing Record 27 of Set 8 | port augusta\n",
      "Processing Record 28 of Set 8 | kodiak\n",
      "Processing Record 29 of Set 8 | suao\n",
      "City not found. Skipping...\n",
      "Processing Record 30 of Set 8 | naze\n",
      "Processing Record 31 of Set 8 | uray\n",
      "Processing Record 32 of Set 8 | lukovetskiy\n",
      "Processing Record 33 of Set 8 | egvekinot\n",
      "Processing Record 34 of Set 8 | taltal\n",
      "Processing Record 35 of Set 8 | krasnaya gora\n",
      "Processing Record 36 of Set 8 | sharjah\n",
      "Processing Record 37 of Set 8 | bambous virieux\n",
      "Processing Record 38 of Set 8 | brae\n",
      "Processing Record 39 of Set 8 | chicama\n",
      "Processing Record 40 of Set 8 | adilabad\n",
      "Processing Record 41 of Set 8 | flin flon\n",
      "Processing Record 42 of Set 8 | solnechnyy\n",
      "Processing Record 43 of Set 8 | shalinskoye\n",
      "Processing Record 44 of Set 8 | iquitos\n",
      "Processing Record 45 of Set 8 | lokosovo\n",
      "Processing Record 46 of Set 8 | tezu\n",
      "Processing Record 47 of Set 8 | fortuna\n",
      "Processing Record 48 of Set 8 | santa ana\n",
      "Processing Record 49 of Set 8 | clyde river\n",
      "Processing Record 50 of Set 8 | henties bay\n",
      "Processing Record 1 of Set 9 | los llanos de aridane\n",
      "Processing Record 2 of Set 9 | presidencia roque saenz pena\n",
      "Processing Record 3 of Set 9 | camapua\n",
      "Processing Record 4 of Set 9 | kasongo-lunda\n",
      "Processing Record 5 of Set 9 | gardan diwal\n",
      "City not found. Skipping...\n",
      "Processing Record 6 of Set 9 | alice springs\n",
      "Processing Record 7 of Set 9 | mani\n",
      "Processing Record 8 of Set 9 | big bend\n",
      "Processing Record 9 of Set 9 | ban nahin\n",
      "Processing Record 10 of Set 9 | sikonge\n",
      "Processing Record 11 of Set 9 | hirara\n",
      "Processing Record 12 of Set 9 | dauphin\n",
      "Processing Record 13 of Set 9 | nisia floresta\n",
      "Processing Record 14 of Set 9 | rio cuarto\n",
      "Processing Record 15 of Set 9 | novichikha\n",
      "Processing Record 16 of Set 9 | saint-francois\n",
      "Processing Record 17 of Set 9 | burica\n",
      "City not found. Skipping...\n",
      "Processing Record 18 of Set 9 | guiratinga\n",
      "Processing Record 19 of Set 9 | tautira\n",
      "Processing Record 20 of Set 9 | barra\n",
      "Processing Record 21 of Set 9 | cabo san lucas\n",
      "Processing Record 22 of Set 9 | kargasok\n",
      "Processing Record 23 of Set 9 | mentok\n",
      "City not found. Skipping...\n",
      "Processing Record 24 of Set 9 | skjervoy\n",
      "Processing Record 25 of Set 9 | tecpan\n",
      "Processing Record 26 of Set 9 | zomba\n",
      "Processing Record 27 of Set 9 | ribas do rio pardo\n",
      "Processing Record 28 of Set 9 | lushunkou\n",
      "City not found. Skipping...\n",
      "Processing Record 29 of Set 9 | kyra\n",
      "Processing Record 30 of Set 9 | klaksvik\n",
      "Processing Record 31 of Set 9 | ambon\n",
      "Processing Record 32 of Set 9 | soure\n",
      "Processing Record 33 of Set 9 | khani\n",
      "Processing Record 34 of Set 9 | puerto rico\n",
      "Processing Record 35 of Set 9 | alofi\n",
      "Processing Record 36 of Set 9 | nadiad\n",
      "Processing Record 37 of Set 9 | kamenka\n",
      "Processing Record 38 of Set 9 | alugan\n",
      "Processing Record 39 of Set 9 | murgab\n",
      "Processing Record 40 of Set 9 | barauna\n",
      "Processing Record 41 of Set 9 | san ramon\n",
      "Processing Record 42 of Set 9 | chifeng\n",
      "Processing Record 43 of Set 9 | agadez\n",
      "Processing Record 44 of Set 9 | demba\n",
      "Processing Record 45 of Set 9 | hammerfest\n",
      "Processing Record 46 of Set 9 | souillac\n",
      "Processing Record 47 of Set 9 | harrison\n",
      "Processing Record 48 of Set 9 | luderitz\n",
      "Processing Record 49 of Set 9 | sabancuy\n",
      "Processing Record 50 of Set 9 | bageshwar\n",
      "Processing Record 1 of Set 10 | bolobo\n",
      "Processing Record 2 of Set 10 | camacha\n",
      "Processing Record 3 of Set 10 | batouri\n",
      "Processing Record 4 of Set 10 | bundaberg\n",
      "Processing Record 5 of Set 10 | pacific grove\n",
      "Processing Record 6 of Set 10 | port hawkesbury\n",
      "Processing Record 7 of Set 10 | noumea\n",
      "Processing Record 8 of Set 10 | panjab\n",
      "Processing Record 9 of Set 10 | narsaq\n",
      "Processing Record 10 of Set 10 | pitimbu\n",
      "Processing Record 11 of Set 10 | maniitsoq\n",
      "Processing Record 12 of Set 10 | elko\n",
      "Processing Record 13 of Set 10 | plettenberg bay\n",
      "Processing Record 14 of Set 10 | oak ridge\n",
      "Processing Record 15 of Set 10 | aykhal\n",
      "Processing Record 16 of Set 10 | kenai\n",
      "Processing Record 17 of Set 10 | pangai\n",
      "Processing Record 18 of Set 10 | beya\n",
      "Processing Record 19 of Set 10 | faanui\n",
      "Processing Record 20 of Set 10 | mahanoro\n",
      "Processing Record 21 of Set 10 | nassau\n",
      "Processing Record 22 of Set 10 | hwange\n",
      "Processing Record 23 of Set 10 | sorvag\n",
      "City not found. Skipping...\n",
      "Processing Record 24 of Set 10 | gold coast\n",
      "Processing Record 25 of Set 10 | coahuayana\n",
      "Processing Record 26 of Set 10 | mangrol\n",
      "Processing Record 27 of Set 10 | bamiantong\n",
      "Processing Record 28 of Set 10 | trinidad\n",
      "Processing Record 29 of Set 10 | udala\n",
      "Processing Record 30 of Set 10 | kaitangata\n",
      "Processing Record 31 of Set 10 | falmouth\n",
      "Processing Record 32 of Set 10 | litoral del san juan\n",
      "City not found. Skipping...\n",
      "Processing Record 33 of Set 10 | yialos\n",
      "City not found. Skipping...\n",
      "Processing Record 34 of Set 10 | otradnoye\n",
      "Processing Record 35 of Set 10 | kotelnich\n",
      "Processing Record 36 of Set 10 | porto santo\n",
      "Processing Record 37 of Set 10 | fare\n",
      "Processing Record 38 of Set 10 | bima\n",
      "Processing Record 39 of Set 10 | severo-kurilsk\n",
      "Processing Record 40 of Set 10 | ailigandi\n",
      "Processing Record 41 of Set 10 | grand gaube\n",
      "Processing Record 42 of Set 10 | rawah\n",
      "Processing Record 43 of Set 10 | briancon\n",
      "Processing Record 44 of Set 10 | mergui\n",
      "City not found. Skipping...\n",
      "Processing Record 45 of Set 10 | shingu\n",
      "Processing Record 46 of Set 10 | nampula\n",
      "Processing Record 47 of Set 10 | lamu\n",
      "Processing Record 48 of Set 10 | rawson\n",
      "Processing Record 49 of Set 10 | gharb\n",
      "City not found. Skipping...\n",
      "Processing Record 50 of Set 10 | karachi\n",
      "Processing Record 1 of Set 11 | matamoros\n",
      "Processing Record 2 of Set 11 | iranshahr\n",
      "Processing Record 3 of Set 11 | dakar\n",
      "Processing Record 4 of Set 11 | westport\n",
      "Processing Record 5 of Set 11 | araouane\n",
      "Processing Record 6 of Set 11 | half moon bay\n",
      "Processing Record 7 of Set 11 | tidore\n",
      "City not found. Skipping...\n",
      "Processing Record 8 of Set 11 | kavalerovo\n",
      "Processing Record 9 of Set 11 | sokoto\n",
      "Processing Record 10 of Set 11 | yuci\n",
      "Processing Record 11 of Set 11 | waipawa\n",
      "Processing Record 12 of Set 11 | akyab\n",
      "Processing Record 13 of Set 11 | dalbandin\n",
      "Processing Record 14 of Set 11 | mayo\n",
      "Processing Record 15 of Set 11 | surt\n",
      "Processing Record 16 of Set 11 | parrita\n",
      "Processing Record 17 of Set 11 | beauchamps\n",
      "Processing Record 18 of Set 11 | rantepao\n",
      "Processing Record 19 of Set 11 | kholodnyy\n",
      "Processing Record 20 of Set 11 | mandalgovi\n",
      "Processing Record 21 of Set 11 | tabiauea\n",
      "City not found. Skipping...\n",
      "Processing Record 22 of Set 11 | gamba\n",
      "Processing Record 23 of Set 11 | baruun-urt\n",
      "Processing Record 24 of Set 11 | bac lieu\n",
      "Processing Record 25 of Set 11 | talara\n",
      "Processing Record 26 of Set 11 | rincon\n",
      "Processing Record 27 of Set 11 | chagda\n",
      "City not found. Skipping...\n",
      "Processing Record 28 of Set 11 | novonikolayevskiy\n",
      "Processing Record 29 of Set 11 | kavaratti\n",
      "Processing Record 30 of Set 11 | snasa\n",
      "Processing Record 31 of Set 11 | verkhnevilyuysk\n",
      "Processing Record 32 of Set 11 | morgan city\n",
      "Processing Record 33 of Set 11 | port-gentil\n",
      "Processing Record 34 of Set 11 | achisay\n",
      "City not found. Skipping...\n",
      "Processing Record 35 of Set 11 | hemsedal\n",
      "Processing Record 36 of Set 11 | fairbanks\n",
      "Processing Record 37 of Set 11 | sungaipenuh\n",
      "Processing Record 38 of Set 11 | cascais\n",
      "Processing Record 39 of Set 11 | pangoa\n",
      "Processing Record 40 of Set 11 | bitung\n",
      "Processing Record 41 of Set 11 | monrovia\n",
      "Processing Record 42 of Set 11 | kuche\n",
      "City not found. Skipping...\n",
      "Processing Record 43 of Set 11 | virginia beach\n",
      "Processing Record 44 of Set 11 | fort saint james\n",
      "Processing Record 45 of Set 11 | haimen\n",
      "Processing Record 46 of Set 11 | kuah\n",
      "Processing Record 47 of Set 11 | mbanza-ngungu\n",
      "Processing Record 48 of Set 11 | corinto\n",
      "Processing Record 49 of Set 11 | california city\n",
      "Processing Record 50 of Set 11 | khandyga\n",
      "Processing Record 1 of Set 12 | dolbeau\n",
      "City not found. Skipping...\n",
      "Processing Record 2 of Set 12 | maler kotla\n",
      "Processing Record 3 of Set 12 | labuan\n",
      "Processing Record 4 of Set 12 | macenta\n",
      "Processing Record 5 of Set 12 | taoudenni\n",
      "Processing Record 6 of Set 12 | adrar\n",
      "Processing Record 7 of Set 12 | marrakesh\n",
      "Processing Record 8 of Set 12 | beauceville\n",
      "Processing Record 9 of Set 12 | grootfontein\n",
      "Processing Record 10 of Set 12 | devonport\n"
     ]
    },
    {
     "name": "stdout",
     "output_type": "stream",
     "text": [
      "Processing Record 11 of Set 12 | odweyne\n",
      "Processing Record 12 of Set 12 | adre\n",
      "Processing Record 13 of Set 12 | maragogi\n",
      "Processing Record 14 of Set 12 | graciano sanchez\n",
      "Processing Record 15 of Set 12 | jiuquan\n",
      "Processing Record 16 of Set 12 | tongren\n",
      "Processing Record 17 of Set 12 | hambantota\n",
      "Processing Record 18 of Set 12 | qidong\n",
      "Processing Record 19 of Set 12 | inuvik\n",
      "Processing Record 20 of Set 12 | waingapu\n",
      "Processing Record 21 of Set 12 | tevriz\n",
      "Processing Record 22 of Set 12 | sitka\n",
      "Processing Record 23 of Set 12 | puerto parra\n",
      "Processing Record 24 of Set 12 | nara\n",
      "Processing Record 25 of Set 12 | kruisfontein\n",
      "Processing Record 26 of Set 12 | haines junction\n",
      "Processing Record 27 of Set 12 | fevralsk\n",
      "City not found. Skipping...\n",
      "Processing Record 28 of Set 12 | muros\n",
      "Processing Record 29 of Set 12 | mirabad\n",
      "Processing Record 30 of Set 12 | moroto\n",
      "Processing Record 31 of Set 12 | bosobolo\n",
      "Processing Record 32 of Set 12 | mocuba\n",
      "Processing Record 33 of Set 12 | punta alta\n",
      "Processing Record 34 of Set 12 | terebovlya\n",
      "Processing Record 35 of Set 12 | malazgirt\n",
      "Processing Record 36 of Set 12 | raudeberg\n",
      "Processing Record 37 of Set 12 | brokopondo\n",
      "Processing Record 38 of Set 12 | kattivakkam\n",
      "Processing Record 39 of Set 12 | finnsnes\n",
      "Processing Record 40 of Set 12 | goderich\n",
      "Processing Record 41 of Set 12 | cabedelo\n",
      "Processing Record 42 of Set 12 | coari\n",
      "Processing Record 43 of Set 12 | rozmital pod tremsinem\n",
      "Processing Record 44 of Set 12 | nouakchott\n",
      "Processing Record 45 of Set 12 | tres lagoas\n",
      "Processing Record 46 of Set 12 | shache\n",
      "Processing Record 47 of Set 12 | gweta\n",
      "Processing Record 48 of Set 12 | denain\n",
      "Processing Record 49 of Set 12 | moose factory\n",
      "Processing Record 50 of Set 12 | gilgit\n",
      "Processing Record 1 of Set 13 | araguari\n",
      "Processing Record 2 of Set 13 | kirensk\n",
      "Processing Record 3 of Set 13 | kualakapuas\n",
      "Processing Record 4 of Set 13 | muzaffarabad\n",
      "Processing Record 5 of Set 13 | itapirapua\n",
      "Processing Record 6 of Set 13 | sigerfjord\n",
      "City not found. Skipping...\n",
      "Processing Record 7 of Set 13 | karpathos\n",
      "Processing Record 8 of Set 13 | anantapur\n",
      "Processing Record 9 of Set 13 | belyy gorodok\n",
      "Processing Record 10 of Set 13 | conceicao da barra\n",
      "-----------------------------\n",
      "Data Retrieval Complete      \n",
      "-----------------------------\n"
     ]
    }
   ],
   "source": [
    "# Create an empty list to hold the weather data\n",
    "\n",
    "city_data =[]\n",
    "\n",
    "# Print the beginning of the logging\n",
    "\n",
    "print(\"Beginning Data Retrieval     \")\n",
    "print(\"-----------------------------\")\n",
    "\n",
    "# Create the counters\n",
    "\n",
    "record_count = 1\n",
    "set_count = 1\n",
    "\n",
    "\n",
    "\n",
    "# Loop through all the cities in the list.\n",
    "for i, city in enumerate(cities):\n",
    "\n",
    "    # Group cities in sets of 50 for logging purposes.\n",
    "    if (i % 50 == 0 and i >= 50):\n",
    "        set_count += 1\n",
    "        record_count = 1\n",
    "        time.sleep(60)\n",
    "\n",
    "    # Create endpoint URL with each city.\n",
    "    city_url = url + \"&q=\" + city.replace(\" \",\"+\")\n",
    "\n",
    "    # Log the URL, record, and set numbers and the city.\n",
    "    print(f\"Processing Record {record_count} of Set {set_count} | {city}\")\n",
    "    # Add 1 to the record count.\n",
    "    record_count += 1\n",
    "    \n",
    "# Run an API request for each of the cities.\n",
    "    try:\n",
    "        # Parse the JSON and retrieve data.\n",
    "        city_weather = requests.get(city_url).json()\n",
    "        # Parse out the needed data.\n",
    "        city_lat = city_weather[\"coord\"][\"lat\"]\n",
    "        city_lng = city_weather[\"coord\"][\"lon\"]\n",
    "        city_max_temp = city_weather[\"main\"][\"temp_max\"]\n",
    "        city_humidity = city_weather[\"main\"][\"humidity\"]\n",
    "        city_clouds = city_weather[\"clouds\"][\"all\"]\n",
    "        city_wind = city_weather[\"wind\"][\"speed\"]\n",
    "        city_country = city_weather[\"sys\"][\"country\"]\n",
    "        # Convert the date to ISO standard.\n",
    "        city_date = datetime.utcfromtimestamp(city_weather[\"dt\"]).strftime('%Y-%m-%d %H:%M:%S')\n",
    "        # Append the city information into city_data list.\n",
    "        city_data.append({\"City\": city.title(),\n",
    "                          \"Lat\": city_lat,\n",
    "                          \"Lng\": city_lng,\n",
    "                          \"Max Temp\": city_max_temp,\n",
    "                          \"Humidity\": city_humidity,\n",
    "                          \"Cloudiness\": city_clouds,\n",
    "                          \"Wind Speed\": city_wind,\n",
    "                          \"Country\": city_country,\n",
    "                          \"Date\": city_date})\n",
    "\n",
    "# If an error is experienced, skip the city.\n",
    "    except:\n",
    "        print(\"City not found. Skipping...\")\n",
    "        pass\n",
    "\n",
    "# Indicate that Data Loading is complete.\n",
    "print(\"-----------------------------\")\n",
    "print(\"Data Retrieval Complete      \")\n",
    "print(\"-----------------------------\")    "
   ]
  },
  {
   "cell_type": "code",
   "execution_count": 30,
   "id": "1f57762e",
   "metadata": {},
   "outputs": [
    {
     "data": {
      "text/html": [
       "<div>\n",
       "<style scoped>\n",
       "    .dataframe tbody tr th:only-of-type {\n",
       "        vertical-align: middle;\n",
       "    }\n",
       "\n",
       "    .dataframe tbody tr th {\n",
       "        vertical-align: top;\n",
       "    }\n",
       "\n",
       "    .dataframe thead th {\n",
       "        text-align: right;\n",
       "    }\n",
       "</style>\n",
       "<table border=\"1\" class=\"dataframe\">\n",
       "  <thead>\n",
       "    <tr style=\"text-align: right;\">\n",
       "      <th></th>\n",
       "      <th>City</th>\n",
       "      <th>Lat</th>\n",
       "      <th>Lng</th>\n",
       "      <th>Max Temp</th>\n",
       "      <th>Humidity</th>\n",
       "      <th>Cloudiness</th>\n",
       "      <th>Wind Speed</th>\n",
       "      <th>Country</th>\n",
       "      <th>Date</th>\n",
       "    </tr>\n",
       "  </thead>\n",
       "  <tbody>\n",
       "    <tr>\n",
       "      <th>0</th>\n",
       "      <td>Hobart</td>\n",
       "      <td>-42.8794</td>\n",
       "      <td>147.3294</td>\n",
       "      <td>53.22</td>\n",
       "      <td>75</td>\n",
       "      <td>70</td>\n",
       "      <td>4.00</td>\n",
       "      <td>AU</td>\n",
       "      <td>2022-07-07 00:29:40</td>\n",
       "    </tr>\n",
       "    <tr>\n",
       "      <th>1</th>\n",
       "      <td>Bredasdorp</td>\n",
       "      <td>-34.5322</td>\n",
       "      <td>20.0403</td>\n",
       "      <td>47.39</td>\n",
       "      <td>83</td>\n",
       "      <td>57</td>\n",
       "      <td>4.90</td>\n",
       "      <td>ZA</td>\n",
       "      <td>2022-07-07 00:29:40</td>\n",
       "    </tr>\n",
       "    <tr>\n",
       "      <th>2</th>\n",
       "      <td>Rikitea</td>\n",
       "      <td>-23.1203</td>\n",
       "      <td>-134.9692</td>\n",
       "      <td>75.18</td>\n",
       "      <td>69</td>\n",
       "      <td>10</td>\n",
       "      <td>17.18</td>\n",
       "      <td>PF</td>\n",
       "      <td>2022-07-07 00:29:41</td>\n",
       "    </tr>\n",
       "    <tr>\n",
       "      <th>3</th>\n",
       "      <td>Kapaa</td>\n",
       "      <td>22.0752</td>\n",
       "      <td>-159.3190</td>\n",
       "      <td>84.18</td>\n",
       "      <td>69</td>\n",
       "      <td>20</td>\n",
       "      <td>14.97</td>\n",
       "      <td>US</td>\n",
       "      <td>2022-07-07 00:29:41</td>\n",
       "    </tr>\n",
       "    <tr>\n",
       "      <th>4</th>\n",
       "      <td>Mataura</td>\n",
       "      <td>-46.1927</td>\n",
       "      <td>168.8643</td>\n",
       "      <td>46.47</td>\n",
       "      <td>72</td>\n",
       "      <td>100</td>\n",
       "      <td>2.71</td>\n",
       "      <td>NZ</td>\n",
       "      <td>2022-07-07 00:29:41</td>\n",
       "    </tr>\n",
       "    <tr>\n",
       "      <th>5</th>\n",
       "      <td>Nikolskoye</td>\n",
       "      <td>59.7035</td>\n",
       "      <td>30.7861</td>\n",
       "      <td>61.81</td>\n",
       "      <td>86</td>\n",
       "      <td>100</td>\n",
       "      <td>2.86</td>\n",
       "      <td>RU</td>\n",
       "      <td>2022-07-07 00:29:42</td>\n",
       "    </tr>\n",
       "    <tr>\n",
       "      <th>6</th>\n",
       "      <td>East London</td>\n",
       "      <td>-33.0153</td>\n",
       "      <td>27.9116</td>\n",
       "      <td>59.49</td>\n",
       "      <td>80</td>\n",
       "      <td>4</td>\n",
       "      <td>10.09</td>\n",
       "      <td>ZA</td>\n",
       "      <td>2022-07-07 00:29:42</td>\n",
       "    </tr>\n",
       "    <tr>\n",
       "      <th>7</th>\n",
       "      <td>Qaanaaq</td>\n",
       "      <td>77.4840</td>\n",
       "      <td>-69.3632</td>\n",
       "      <td>39.72</td>\n",
       "      <td>96</td>\n",
       "      <td>100</td>\n",
       "      <td>1.10</td>\n",
       "      <td>GL</td>\n",
       "      <td>2022-07-07 00:29:42</td>\n",
       "    </tr>\n",
       "    <tr>\n",
       "      <th>8</th>\n",
       "      <td>Ushuaia</td>\n",
       "      <td>-54.8000</td>\n",
       "      <td>-68.3000</td>\n",
       "      <td>28.06</td>\n",
       "      <td>74</td>\n",
       "      <td>0</td>\n",
       "      <td>4.61</td>\n",
       "      <td>AR</td>\n",
       "      <td>2022-07-07 00:29:43</td>\n",
       "    </tr>\n",
       "    <tr>\n",
       "      <th>9</th>\n",
       "      <td>Busselton</td>\n",
       "      <td>-33.6500</td>\n",
       "      <td>115.3333</td>\n",
       "      <td>48.76</td>\n",
       "      <td>88</td>\n",
       "      <td>86</td>\n",
       "      <td>10.31</td>\n",
       "      <td>AU</td>\n",
       "      <td>2022-07-07 00:29:43</td>\n",
       "    </tr>\n",
       "  </tbody>\n",
       "</table>\n",
       "</div>"
      ],
      "text/plain": [
       "          City      Lat       Lng  Max Temp  Humidity  Cloudiness  Wind Speed  \\\n",
       "0       Hobart -42.8794  147.3294     53.22        75          70        4.00   \n",
       "1   Bredasdorp -34.5322   20.0403     47.39        83          57        4.90   \n",
       "2      Rikitea -23.1203 -134.9692     75.18        69          10       17.18   \n",
       "3        Kapaa  22.0752 -159.3190     84.18        69          20       14.97   \n",
       "4      Mataura -46.1927  168.8643     46.47        72         100        2.71   \n",
       "5   Nikolskoye  59.7035   30.7861     61.81        86         100        2.86   \n",
       "6  East London -33.0153   27.9116     59.49        80           4       10.09   \n",
       "7      Qaanaaq  77.4840  -69.3632     39.72        96         100        1.10   \n",
       "8      Ushuaia -54.8000  -68.3000     28.06        74           0        4.61   \n",
       "9    Busselton -33.6500  115.3333     48.76        88          86       10.31   \n",
       "\n",
       "  Country                 Date  \n",
       "0      AU  2022-07-07 00:29:40  \n",
       "1      ZA  2022-07-07 00:29:40  \n",
       "2      PF  2022-07-07 00:29:41  \n",
       "3      US  2022-07-07 00:29:41  \n",
       "4      NZ  2022-07-07 00:29:41  \n",
       "5      RU  2022-07-07 00:29:42  \n",
       "6      ZA  2022-07-07 00:29:42  \n",
       "7      GL  2022-07-07 00:29:42  \n",
       "8      AR  2022-07-07 00:29:43  \n",
       "9      AU  2022-07-07 00:29:43  "
      ]
     },
     "execution_count": 30,
     "metadata": {},
     "output_type": "execute_result"
    }
   ],
   "source": [
    "# Convert the array of dictionaries to a Pandas DataFrame.\n",
    "city_data_df = pd.DataFrame(city_data)\n",
    "city_data_df.head(10)"
   ]
  },
  {
   "cell_type": "code",
   "execution_count": 35,
   "id": "1ff35fb2",
   "metadata": {},
   "outputs": [],
   "source": [
    "# Create the output file (CSV).\n",
    "output_data_file = \"weather_data/cities.csv\"\n",
    "# Export the City_Data into a CSV.\n",
    "city_data_df.to_csv(output_data_file, index_label=\"City_ID\")"
   ]
  },
  {
   "cell_type": "code",
   "execution_count": 36,
   "id": "868ae117",
   "metadata": {},
   "outputs": [],
   "source": [
    "# 6.3.1 Get Data for Plotting\n",
    "\n",
    "# Extract relevant fields from the DataFrame for plotting.\n",
    "lats = city_data_df[\"Lat\"]\n",
    "max_temps = city_data_df[\"Max Temp\"]\n",
    "humidity = city_data_df[\"Humidity\"]\n",
    "cloudiness = city_data_df[\"Cloudiness\"]\n",
    "wind_speed = city_data_df[\"Wind Speed\"]"
   ]
  },
  {
   "cell_type": "code",
   "execution_count": 37,
   "id": "0c7623e7",
   "metadata": {},
   "outputs": [
    {
     "data": {
      "text/plain": [
       "1657155030.0131123"
      ]
     },
     "execution_count": 37,
     "metadata": {},
     "output_type": "execute_result"
    }
   ],
   "source": [
    "# Import the time module.\n",
    "import time\n",
    "# Get today's date in seconds.\n",
    "today = time.time()\n",
    "today"
   ]
  },
  {
   "cell_type": "code",
   "execution_count": 38,
   "id": "6dff4d35",
   "metadata": {},
   "outputs": [
    {
     "data": {
      "image/png": "[encoded data removed]",
      "text/plain": [
       "<Figure size 432x288 with 1 Axes>"
      ]
     },
     "metadata": {
      "needs_background": "light"
     },
     "output_type": "display_data"
    }
   ],
   "source": [
    "# Import time module\n",
    "import time\n",
    "\n",
    "# Build the scatter plot for latitude vs. max temperature.\n",
    "plt.scatter(lats,\n",
    "            max_temps,\n",
    "            edgecolor=\"black\", linewidths=1, marker=\"o\",\n",
    "            alpha=0.8, label=\"Cities\")\n",
    "\n",
    "# Incorporate the other graph properties.\n",
    "plt.title(f\"City Latitude vs. Max Temperature \"+ time.strftime(\"%x\"))\n",
    "plt.ylabel(\"Max Temperature (F)\")\n",
    "plt.xlabel(\"Latitude\")\n",
    "plt.grid(True)\n",
    "\n",
    "# Save the figure.\n",
    "plt.savefig(\"weather_data/Fig1.png\")\n",
    "\n",
    "# Show plot.\n",
    "plt.show()"
   ]
  },
  {
   "cell_type": "code",
   "execution_count": 39,
   "id": "e390f6db",
   "metadata": {},
   "outputs": [],
   "source": [
    "# 6.3.1\n",
    "# Extract relevant fields from the DataFrame for plotting\n",
    "\n",
    "lats = city_data_df[\"Lat\"]\n",
    "max_temps = city_data_df[\"Max Temp\"]\n",
    "humidity = city_data_df[\"Humidity\"]\n",
    "cloudiness = city_data_df[\"Cloudiness\"]\n",
    "wind_speed = city_data_df[\"Wind Speed\"]"
   ]
  },
  {
   "cell_type": "code",
   "execution_count": 40,
   "id": "a9b7a4d8",
   "metadata": {},
   "outputs": [
    {
     "data": {
      "text/plain": [
       "1657155218.092988"
      ]
     },
     "execution_count": 40,
     "metadata": {},
     "output_type": "execute_result"
    }
   ],
   "source": [
    "# Import the time module\n",
    "\n",
    "import time\n",
    "\n",
    "# Get today's date in seconds\n",
    "\n",
    "today = time.time()\n",
    "today"
   ]
  },
  {
   "cell_type": "code",
   "execution_count": null,
   "id": "a16de6a6",
   "metadata": {},
   "outputs": [],
   "source": []
  }
 ],
 "metadata": {
  "kernelspec": {
   "display_name": "PythonData",
   "language": "python",
   "name": "pythondata"
  },
  "language_info": {
   "codemirror_mode": {
    "name": "ipython",
    "version": 3
   },
   "file_extension": ".py",
   "mimetype": "text/x-python",
   "name": "python",
   "nbconvert_exporter": "python",
   "pygments_lexer": "ipython3",
   "version": "3.7.13"
  }
 },
 "nbformat": 4,
 "nbformat_minor": 5
}
